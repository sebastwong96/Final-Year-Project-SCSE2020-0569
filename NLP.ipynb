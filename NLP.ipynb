{
  "nbformat": 4,
  "nbformat_minor": 0,
  "metadata": {
    "colab": {
      "name": "NLP.ipynb",
      "provenance": [],
      "collapsed_sections": []
    },
    "kernelspec": {
      "name": "python3",
      "display_name": "Python 3"
    }
  },
  "cells": [
    {
      "cell_type": "code",
      "metadata": {
        "id": "ScPxY4KyaNcy"
      },
      "source": [
        "#from google.colab import drive\n",
        "#drive.mount(\"/content/drive\", force_remount=True)"
      ],
      "execution_count": 1,
      "outputs": []
    },
    {
      "cell_type": "code",
      "metadata": {
        "colab": {
          "base_uri": "https://localhost:8080/"
        },
        "id": "apD2VMCgYCIo",
        "outputId": "cd9cdffc-cc15-4d54-9dff-4a91d609d7e1"
      },
      "source": [
        "pip install dragnet"
      ],
      "execution_count": 2,
      "outputs": [
        {
          "output_type": "stream",
          "text": [
            "Requirement already satisfied: dragnet in /usr/local/lib/python3.7/dist-packages (2.0.4)\n",
            "Requirement already satisfied: numpy>=1.11.0 in /usr/local/lib/python3.7/dist-packages (from dragnet) (1.19.5)\n",
            "Requirement already satisfied: scikit-learn<0.21.0,>=0.15.2 in /usr/local/lib/python3.7/dist-packages (from dragnet) (0.20.4)\n",
            "Requirement already satisfied: Cython>=0.21.1 in /usr/local/lib/python3.7/dist-packages (from dragnet) (0.29.22)\n",
            "Requirement already satisfied: ftfy<5.0.0,>=4.1.0 in /usr/local/lib/python3.7/dist-packages (from dragnet) (4.4.3)\n",
            "Requirement already satisfied: scipy>=0.17.0 in /usr/local/lib/python3.7/dist-packages (from dragnet) (1.4.1)\n",
            "Requirement already satisfied: lxml in /usr/local/lib/python3.7/dist-packages (from dragnet) (4.2.6)\n",
            "Requirement already satisfied: html5lib in /usr/local/lib/python3.7/dist-packages (from ftfy<5.0.0,>=4.1.0->dragnet) (1.0.1)\n",
            "Requirement already satisfied: wcwidth in /usr/local/lib/python3.7/dist-packages (from ftfy<5.0.0,>=4.1.0->dragnet) (0.2.5)\n",
            "Requirement already satisfied: webencodings in /usr/local/lib/python3.7/dist-packages (from html5lib->ftfy<5.0.0,>=4.1.0->dragnet) (0.5.1)\n",
            "Requirement already satisfied: six>=1.9 in /usr/local/lib/python3.7/dist-packages (from html5lib->ftfy<5.0.0,>=4.1.0->dragnet) (1.15.0)\n"
          ],
          "name": "stdout"
        }
      ]
    },
    {
      "cell_type": "code",
      "metadata": {
        "colab": {
          "base_uri": "https://localhost:8080/"
        },
        "id": "4v5SBeV9bXut",
        "outputId": "fc4a5a6f-a1ae-4616-b844-eb702594d177"
      },
      "source": [
        "import pandas as pd\n",
        "from dragnet import extract_content\n",
        "from bs4 import BeautifulSoup\n",
        "import requests\n",
        "import spacy\n",
        "from spacy import displacy\n",
        "from collections import Counter\n",
        "import en_core_web_sm\n",
        "import urllib\n",
        "\n",
        " \n",
        "sources = pd.read_csv('data/itgovernance_links.csv', header=None)\n",
        "nlp = en_core_web_sm.load()\n",
        "file = open('data/itgovernance_link_clean.csv','w+')\n",
        "\n",
        "for url in sources[0]:\n",
        "  try:\n",
        "    #print(url)\n",
        "    r = requests.get(url, headers={'User-Agent': 'Mozilla/5.0'},timeout=10)\n",
        "    content = extract_content(r.content)\n",
        "    soup = BeautifulSoup(r.content, 'html.parser')\n",
        "    title = soup.find('title')\n",
        "    #print(title.string)\n",
        "    if len(content) < 500:\n",
        "      Eprint(url)\n",
        "      sources.drop(url)\n",
        "      continue\n",
        "    content = nlp(content)\n",
        "    for X in content.ents:\n",
        "      if (X.label_ is 'MONEY'):\n",
        "        file.write(url+'\\n')\n",
        "        Eprint(content)\n",
        "        Eprint([(X.text, X.label_) for X in content.ents])       \n",
        "        break\n",
        "      #print([(X.text, X.label_) for X in content.ents])\n",
        "  \n",
        "    #print(\"------------------------------------------------------------------------------------------------------------------\")\n",
        "  except:\n",
        "    #print('error')\n",
        "    continue\n",
        "\n",
        "file.close()    "
      ],
      "execution_count": 3,
      "outputs": [
        {
          "output_type": "stream",
          "text": [
            "/usr/local/lib/python3.7/dist-packages/sklearn/base.py:253: UserWarning: Trying to unpickle estimator FeatureUnion from version 0.19.1 when using version 0.20.4. This might lead to breaking code or invalid results. Use at your own risk.\n",
            "  UserWarning)\n",
            "/usr/local/lib/python3.7/dist-packages/sklearn/base.py:253: UserWarning: Trying to unpickle estimator ExtraTreeClassifier from version 0.19.1 when using version 0.20.4. This might lead to breaking code or invalid results. Use at your own risk.\n",
            "  UserWarning)\n",
            "/usr/local/lib/python3.7/dist-packages/sklearn/base.py:253: UserWarning: Trying to unpickle estimator ExtraTreesClassifier from version 0.19.1 when using version 0.20.4. This might lead to breaking code or invalid results. Use at your own risk.\n",
            "  UserWarning)\n",
            "Some characters could not be decoded, and were replaced with REPLACEMENT CHARACTER.\n",
            "Some characters could not be decoded, and were replaced with REPLACEMENT CHARACTER.\n",
            "Some characters could not be decoded, and were replaced with REPLACEMENT CHARACTER.\n",
            "Some characters could not be decoded, and were replaced with REPLACEMENT CHARACTER.\n",
            "Some characters could not be decoded, and were replaced with REPLACEMENT CHARACTER.\n",
            "Some characters could not be decoded, and were replaced with REPLACEMENT CHARACTER.\n",
            "Some characters could not be decoded, and were replaced with REPLACEMENT CHARACTER.\n",
            "Some characters could not be decoded, and were replaced with REPLACEMENT CHARACTER.\n",
            "Some characters could not be decoded, and were replaced with REPLACEMENT CHARACTER.\n",
            "Some characters could not be decoded, and were replaced with REPLACEMENT CHARACTER.\n",
            "Some characters could not be decoded, and were replaced with REPLACEMENT CHARACTER.\n",
            "Some characters could not be decoded, and were replaced with REPLACEMENT CHARACTER.\n",
            "Some characters could not be decoded, and were replaced with REPLACEMENT CHARACTER.\n",
            "Some characters could not be decoded, and were replaced with REPLACEMENT CHARACTER.\n",
            "Some characters could not be decoded, and were replaced with REPLACEMENT CHARACTER.\n",
            "Some characters could not be decoded, and were replaced with REPLACEMENT CHARACTER.\n",
            "Some characters could not be decoded, and were replaced with REPLACEMENT CHARACTER.\n"
          ],
          "name": "stderr"
        }
      ]
    },
    {
      "cell_type": "markdown",
      "metadata": {
        "id": "VXpKpABuwaip"
      },
      "source": [
        "Download File from File Directory"
      ]
    }
  ]
}